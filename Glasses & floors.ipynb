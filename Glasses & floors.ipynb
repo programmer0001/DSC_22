{
 "cells": [
  {
   "cell_type": "code",
   "execution_count": 1,
   "id": "3cfe2de9",
   "metadata": {},
   "outputs": [],
   "source": [
    "import random as r\n",
    "import numpy as np"
   ]
  },
  {
   "cell_type": "code",
   "execution_count": 2,
   "id": "d371538c",
   "metadata": {},
   "outputs": [],
   "source": [
    "def check(glasses, floors, printing):\n",
    "    div = glasses = glasses\n",
    "    b = floors = floors\n",
    "    a = 0\n",
    "    attempt = 0\n",
    "    bit = round(r.random() * 100)\n",
    "    if printing: print(bit)\n",
    "\n",
    "    level = round(floors / glasses)\n",
    "    while b - a != 1:\n",
    "        if glasses == 1:\n",
    "            while b - a != 1:\n",
    "                if a < bit:\n",
    "                    a += 1\n",
    "                    attempt += 1\n",
    "                    if printing: print(attempt, a, b)\n",
    "                else:\n",
    "                    b = a\n",
    "                    break\n",
    "            break\n",
    "\n",
    "        if level < bit:\n",
    "            a = level\n",
    "            level = round(a + ((b - a) / div))\n",
    "            attempt += 1\n",
    "            if printing: print(attempt, a, b)\n",
    "            continue\n",
    "        elif level >= bit:\n",
    "            b = level\n",
    "            level = round(a + ((b - a) / div))\n",
    "            glasses -= 1\n",
    "            attempt += 1\n",
    "            if printing: print(attempt, a, b)\n",
    "            continue\n",
    "\n",
    "    if printing: print(\"Floor = {}. Attempts = {}.\".format(b, attempt))\n",
    "    return attempt"
   ]
  },
  {
   "cell_type": "code",
   "execution_count": 3,
   "id": "e56de386",
   "metadata": {},
   "outputs": [
    {
     "name": "stdout",
     "output_type": "stream",
     "text": [
      "65\n",
      "1 33 100\n",
      "2 55 100\n",
      "3 55 70\n",
      "4 60 70\n",
      "5 63 70\n",
      "6 63 65\n",
      "7 64 65\n",
      "Floor = 65. Attempts = 7.\n"
     ]
    },
    {
     "data": {
      "text/plain": [
       "7"
      ]
     },
     "execution_count": 3,
     "metadata": {},
     "output_type": "execute_result"
    }
   ],
   "source": [
    "check(3, 100, True)"
   ]
  },
  {
   "cell_type": "code",
   "execution_count": 7,
   "id": "16f98768",
   "metadata": {},
   "outputs": [
    {
     "name": "stdout",
     "output_type": "stream",
     "text": [
      "Average count of attempts =  7.566\n",
      "Max count of attempts =  12.0\n"
     ]
    }
   ],
   "source": [
    "results = np.zeros(1000)\n",
    "\n",
    "for i in range(1000):\n",
    "    results[i] = check(3, 100, False)\n",
    "\n",
    "print(\"Average count of attempts = \", results.mean())\n",
    "print(\"Max count of attempts = \", results.max())"
   ]
  },
  {
   "cell_type": "code",
   "execution_count": null,
   "id": "fee0c0a5",
   "metadata": {},
   "outputs": [],
   "source": []
  }
 ],
 "metadata": {
  "kernelspec": {
   "display_name": "Python 3 (ipykernel)",
   "language": "python",
   "name": "python3"
  },
  "language_info": {
   "codemirror_mode": {
    "name": "ipython",
    "version": 3
   },
   "file_extension": ".py",
   "mimetype": "text/x-python",
   "name": "python",
   "nbconvert_exporter": "python",
   "pygments_lexer": "ipython3",
   "version": "3.10.6"
  }
 },
 "nbformat": 4,
 "nbformat_minor": 5
}
