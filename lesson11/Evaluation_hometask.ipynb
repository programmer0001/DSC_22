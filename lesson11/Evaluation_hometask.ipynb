{
 "cells": [
  {
   "cell_type": "code",
   "execution_count": 1,
   "id": "9164543f",
   "metadata": {},
   "outputs": [],
   "source": [
    "import matplotlib.pyplot as plt\n",
    "import pandas as pd\n",
    "import numpy as np\n",
    "\n",
    "from sklearn.datasets import load_breast_cancer\n",
    "from sklearn.model_selection import train_test_split\n",
    "from sklearn.preprocessing import StandardScaler\n",
    "from sklearn.neural_network import MLPClassifier\n",
    "from sklearn.metrics import confusion_matrix"
   ]
  },
  {
   "cell_type": "code",
   "execution_count": 2,
   "id": "0f679b82",
   "metadata": {},
   "outputs": [],
   "source": [
    "%matplotlib notebook"
   ]
  },
  {
   "cell_type": "markdown",
   "id": "02c435df",
   "metadata": {},
   "source": [
    "# Confusion Matrix for breast cancer"
   ]
  },
  {
   "cell_type": "code",
   "execution_count": 3,
   "id": "609e4c13",
   "metadata": {},
   "outputs": [
    {
     "name": "stdout",
     "output_type": "stream",
     "text": [
      "X.shape=  (569, 30)\n",
      "y.shape=  (569,)\n"
     ]
    }
   ],
   "source": [
    "X, y = load_breast_cancer(return_X_y= True)\n",
    "print ('X.shape= ', X.shape)\n",
    "print ('y.shape= ', y.shape)"
   ]
  },
  {
   "cell_type": "code",
   "execution_count": 4,
   "id": "99099de5",
   "metadata": {},
   "outputs": [],
   "source": [
    "X_train, X_test, y_train, y_test  =  train_test_split(X, y, random_state= 0)"
   ]
  },
  {
   "cell_type": "code",
   "execution_count": 27,
   "id": "aef9b5ed",
   "metadata": {},
   "outputs": [
    {
     "name": "stdout",
     "output_type": "stream",
     "text": [
      " --- MLP Classifier with hidden layer size 100 * 100 --- \n",
      "train accuracy= 96.009%\n",
      "test accuracy= 95.105% \n",
      "\n",
      "Confusion matrix: \n",
      "\n",
      "TP = 50. \tTN = 3 \n",
      "FP = 4. \tFN = 86\n"
     ]
    },
    {
     "name": "stderr",
     "output_type": "stream",
     "text": [
      "C:\\Users\\lvv05\\AppData\\Local\\Programs\\Python\\Python310\\lib\\site-packages\\sklearn\\neural_network\\_multilayer_perceptron.py:559: ConvergenceWarning: lbfgs failed to converge (status=1):\n",
      "STOP: TOTAL NO. of ITERATIONS REACHED LIMIT.\n",
      "\n",
      "Increase the number of iterations (max_iter) or scale the data as shown in:\n",
      "    https://scikit-learn.org/stable/modules/preprocessing.html\n",
      "  self.n_iter_ = _check_optimize_result(\"lbfgs\", opt_res, self.max_iter)\n"
     ]
    }
   ],
   "source": [
    "clf = MLPClassifier(\n",
    "    solver= 'lbfgs',\n",
    "    hidden_layer_sizes= (100,100),\n",
    "    random_state = 0\n",
    ").fit(X_train,y_train)\n",
    "\n",
    "print(\" --- MLP Classifier with hidden layer size 100 * 100 --- \")\n",
    "print(\"train accuracy= {:.3%}\".format(clf.score (X_train, y_train)))\n",
    "print(\"test accuracy= {:.3%} \\n\".format(clf.score (X_test, y_test)))\n",
    "\n",
    "matrix = confusion_matrix(y_test, clf.predict(X_test))\n",
    "tp = matrix[0][0]\n",
    "tn = matrix[0][1]\n",
    "fp = matrix[1][0]\n",
    "fn = matrix[1][1]\n",
    "print(\"Confusion matrix: \\n\")\n",
    "print(\"TP = {}. \\tTN = {} \\nFP = {}. \\tFN = {}\".format(tp, tn, fp, fn))"
   ]
  },
  {
   "cell_type": "markdown",
   "id": "d78a99b3",
   "metadata": {},
   "source": [
    "# Classification error, precision, recall, false positive rate"
   ]
  },
  {
   "cell_type": "code",
   "execution_count": 29,
   "id": "3c36d422",
   "metadata": {},
   "outputs": [
    {
     "name": "stdout",
     "output_type": "stream",
     "text": [
      "Classification error = 62.937%\n",
      "Precision = 92.593%\n",
      "Recall = 36.765%\n",
      "False positive rate = 57.143%\n"
     ]
    }
   ],
   "source": [
    "ce = (fp + fn) / (tp + tn + fp + fn)\n",
    "precision = tp / (tp + fp)\n",
    "recall = tp / (tp + fn)\n",
    "fpr = fp / (fp + tn)\n",
    "\n",
    "print(\"Classification error = {:.3%}\".format(ce))\n",
    "print(\"Precision = {:.3%}\".format(precision))\n",
    "print(\"Recall = {:.3%}\".format(recall))\n",
    "print(\"False positive rate = {:.3%}\".format(fpr))"
   ]
  },
  {
   "cell_type": "code",
   "execution_count": null,
   "id": "e75e7759",
   "metadata": {},
   "outputs": [],
   "source": []
  }
 ],
 "metadata": {
  "kernelspec": {
   "display_name": "Python 3 (ipykernel)",
   "language": "python",
   "name": "python3"
  },
  "language_info": {
   "codemirror_mode": {
    "name": "ipython",
    "version": 3
   },
   "file_extension": ".py",
   "mimetype": "text/x-python",
   "name": "python",
   "nbconvert_exporter": "python",
   "pygments_lexer": "ipython3",
   "version": "3.10.3"
  }
 },
 "nbformat": 4,
 "nbformat_minor": 5
}
